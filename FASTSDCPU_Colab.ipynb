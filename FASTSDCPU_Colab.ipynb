{
  "cells": [
    {
      "cell_type": "code",
      "execution_count": null,
      "metadata": {
        "id": "HxQkITTtY1oH"
      },
      "outputs": [],
      "source": [
        "# FASTSD CPU colab version\n",
        "# Author : Rupesh Sreeraman\n",
        "# Fork: GRD\n",
        "\n",
        "# Due to the limitation of using CPU/OpenVINO inside colab currently using GPU\n",
        "%env DEVICE=cuda\n",
        "\n",
        "# Choose model\n",
        "lcm_lora_id = \"latent-consistency/lcm-lora-sdv1-5\" # latent-consistency/lcm-lora-sdv1-5 or latent-consistency/lcm-lora-sdxl\n",
        "base_model_id = \"Yntec/epiCPhotoGasm\" # from hugging-face, must match lcm_lora_id type\n",
        "\n",
        "!git clone -b gustrd https://github.com/gustrd/fastsdcpu.git\n",
        "!cd fastsdcpu && git pull && pip install -r requirements.txt && cd ..\n",
        "\n",
        "!python fastsdcpu/src/app.py -w -s --use_lcm_lora --lcm_lora_id $lcm_lora_id --base_model_id $base_model_id"
      ]
    }
  ],
  "metadata": {
    "accelerator": "GPU",
    "colab": {
      "provenance": []
    },
    "kernelspec": {
      "display_name": "Python 3",
      "name": "python3"
    },
    "language_info": {
      "name": "python"
    }
  },
  "nbformat": 4,
  "nbformat_minor": 0
}
